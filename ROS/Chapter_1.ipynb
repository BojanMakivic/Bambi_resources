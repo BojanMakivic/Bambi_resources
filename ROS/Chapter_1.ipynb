{
 "cells": [
  {
   "cell_type": "markdown",
   "metadata": {},
   "source": [
    "# Regression and Other Stories: Chapter 1"
   ]
  },
  {
   "cell_type": "code",
   "execution_count": 7,
   "metadata": {},
   "outputs": [],
   "source": [
    "import pandas as pd\n",
    "import statsmodels.api as sm\n",
    "import statsmodels.formula.api as smf\n",
    "import matplotlib.pyplot as plt\n",
    "from bambi import Model\n",
    "import arviz as az"
   ]
  },
  {
   "cell_type": "code",
   "execution_count": 8,
   "metadata": {},
   "outputs": [
    {
     "data": {
      "text/html": [
       "<div>\n",
       "<style scoped>\n",
       "    .dataframe tbody tr th:only-of-type {\n",
       "        vertical-align: middle;\n",
       "    }\n",
       "\n",
       "    .dataframe tbody tr th {\n",
       "        vertical-align: top;\n",
       "    }\n",
       "\n",
       "    .dataframe thead th {\n",
       "        text-align: right;\n",
       "    }\n",
       "</style>\n",
       "<table border=\"1\" class=\"dataframe\">\n",
       "  <thead>\n",
       "    <tr style=\"text-align: right;\">\n",
       "      <th></th>\n",
       "      <th>year</th>\n",
       "      <th>growth</th>\n",
       "      <th>vote</th>\n",
       "      <th>inc_party_candidate</th>\n",
       "      <th>other_candidate</th>\n",
       "    </tr>\n",
       "  </thead>\n",
       "  <tbody>\n",
       "    <tr>\n",
       "      <th>0</th>\n",
       "      <td>1952</td>\n",
       "      <td>2.40</td>\n",
       "      <td>44.60</td>\n",
       "      <td>Stevenson</td>\n",
       "      <td>Eisenhower</td>\n",
       "    </tr>\n",
       "    <tr>\n",
       "      <th>1</th>\n",
       "      <td>1956</td>\n",
       "      <td>2.89</td>\n",
       "      <td>57.76</td>\n",
       "      <td>Eisenhower</td>\n",
       "      <td>Stevenson</td>\n",
       "    </tr>\n",
       "    <tr>\n",
       "      <th>2</th>\n",
       "      <td>1960</td>\n",
       "      <td>0.85</td>\n",
       "      <td>49.91</td>\n",
       "      <td>Nixon</td>\n",
       "      <td>Kennedy</td>\n",
       "    </tr>\n",
       "    <tr>\n",
       "      <th>3</th>\n",
       "      <td>1964</td>\n",
       "      <td>4.21</td>\n",
       "      <td>61.34</td>\n",
       "      <td>Johnson</td>\n",
       "      <td>Goldwater</td>\n",
       "    </tr>\n",
       "    <tr>\n",
       "      <th>4</th>\n",
       "      <td>1968</td>\n",
       "      <td>3.02</td>\n",
       "      <td>49.60</td>\n",
       "      <td>Humphrey</td>\n",
       "      <td>Nixon</td>\n",
       "    </tr>\n",
       "    <tr>\n",
       "      <th>5</th>\n",
       "      <td>1972</td>\n",
       "      <td>3.62</td>\n",
       "      <td>61.79</td>\n",
       "      <td>Nixon</td>\n",
       "      <td>McGovern</td>\n",
       "    </tr>\n",
       "    <tr>\n",
       "      <th>6</th>\n",
       "      <td>1976</td>\n",
       "      <td>1.08</td>\n",
       "      <td>48.95</td>\n",
       "      <td>Ford</td>\n",
       "      <td>Carter</td>\n",
       "    </tr>\n",
       "    <tr>\n",
       "      <th>7</th>\n",
       "      <td>1980</td>\n",
       "      <td>-0.39</td>\n",
       "      <td>44.70</td>\n",
       "      <td>Carter</td>\n",
       "      <td>Reagan</td>\n",
       "    </tr>\n",
       "    <tr>\n",
       "      <th>8</th>\n",
       "      <td>1984</td>\n",
       "      <td>3.86</td>\n",
       "      <td>59.17</td>\n",
       "      <td>Reagan</td>\n",
       "      <td>Mondale</td>\n",
       "    </tr>\n",
       "    <tr>\n",
       "      <th>9</th>\n",
       "      <td>1988</td>\n",
       "      <td>2.27</td>\n",
       "      <td>53.94</td>\n",
       "      <td>Bush, Sr.</td>\n",
       "      <td>Dukakis</td>\n",
       "    </tr>\n",
       "    <tr>\n",
       "      <th>10</th>\n",
       "      <td>1992</td>\n",
       "      <td>0.38</td>\n",
       "      <td>46.55</td>\n",
       "      <td>Bush, Sr.</td>\n",
       "      <td>Clinton</td>\n",
       "    </tr>\n",
       "    <tr>\n",
       "      <th>11</th>\n",
       "      <td>1996</td>\n",
       "      <td>1.04</td>\n",
       "      <td>54.74</td>\n",
       "      <td>Clinton</td>\n",
       "      <td>Dole</td>\n",
       "    </tr>\n",
       "    <tr>\n",
       "      <th>12</th>\n",
       "      <td>2000</td>\n",
       "      <td>2.36</td>\n",
       "      <td>50.27</td>\n",
       "      <td>Gore</td>\n",
       "      <td>Bush, Jr.</td>\n",
       "    </tr>\n",
       "    <tr>\n",
       "      <th>13</th>\n",
       "      <td>2004</td>\n",
       "      <td>1.72</td>\n",
       "      <td>51.24</td>\n",
       "      <td>Bush, Jr.</td>\n",
       "      <td>Kerry</td>\n",
       "    </tr>\n",
       "    <tr>\n",
       "      <th>14</th>\n",
       "      <td>2008</td>\n",
       "      <td>0.10</td>\n",
       "      <td>46.32</td>\n",
       "      <td>McCain</td>\n",
       "      <td>Obama</td>\n",
       "    </tr>\n",
       "    <tr>\n",
       "      <th>15</th>\n",
       "      <td>2012</td>\n",
       "      <td>0.95</td>\n",
       "      <td>52.00</td>\n",
       "      <td>Obama</td>\n",
       "      <td>Romney</td>\n",
       "    </tr>\n",
       "  </tbody>\n",
       "</table>\n",
       "</div>"
      ],
      "text/plain": [
       "    year  growth   vote inc_party_candidate other_candidate\n",
       "0   1952    2.40  44.60           Stevenson      Eisenhower\n",
       "1   1956    2.89  57.76          Eisenhower       Stevenson\n",
       "2   1960    0.85  49.91               Nixon         Kennedy\n",
       "3   1964    4.21  61.34             Johnson       Goldwater\n",
       "4   1968    3.02  49.60            Humphrey           Nixon\n",
       "5   1972    3.62  61.79               Nixon        McGovern\n",
       "6   1976    1.08  48.95                Ford          Carter\n",
       "7   1980   -0.39  44.70              Carter          Reagan\n",
       "8   1984    3.86  59.17              Reagan         Mondale\n",
       "9   1988    2.27  53.94           Bush, Sr.         Dukakis\n",
       "10  1992    0.38  46.55           Bush, Sr.         Clinton\n",
       "11  1996    1.04  54.74             Clinton            Dole\n",
       "12  2000    2.36  50.27                Gore       Bush, Jr.\n",
       "13  2004    1.72  51.24           Bush, Jr.           Kerry\n",
       "14  2008    0.10  46.32              McCain           Obama\n",
       "15  2012    0.95  52.00               Obama          Romney"
      ]
     },
     "execution_count": 8,
     "metadata": {},
     "output_type": "execute_result"
    }
   ],
   "source": [
    "data = \"https://raw.githubusercontent.com/avehtari/ROS-Examples/master/ElectionsEconomy/data/hibbs.dat\"\n",
    "hibbs = pd.read_csv(data, delimiter=\" \")\n",
    "hibbs"
   ]
  },
  {
   "cell_type": "code",
   "execution_count": 9,
   "metadata": {},
   "outputs": [
    {
     "data": {
      "image/png": "[encoded data removed]",
      "text/plain": [
       "<Figure size 432x288 with 1 Axes>"
      ]
     },
     "metadata": {
      "needs_background": "light"
     },
     "output_type": "display_data"
    }
   ],
   "source": [
    "fig, ax = plt.subplots()\n",
    "hibbs.plot(kind=\"scatter\", x=\"growth\", y=\"vote\", ax=ax)\n",
    "ax.set_xlabel(\" Average recent growth in personal income\")\n",
    "ax.set_ylabel(\"Incumbent party's vote share\");"
   ]
  },
  {
   "cell_type": "code",
   "execution_count": 10,
   "metadata": {},
   "outputs": [
    {
     "name": "stderr",
     "output_type": "stream",
     "text": [
      "Auto-assigning NUTS sampler...\n",
      "Initializing NUTS using jitter+adapt_diag...\n",
      "Multiprocess sampling (4 chains in 4 jobs)\n",
      "NUTS: [vote_sd, growth, Intercept]\n"
     ]
    },
    {
     "data": {
      "text/html": [
       "\n",
       "    <div>\n",
       "        <style>\n",
       "            /* Turns off some styling */\n",
       "            progress {\n",
       "                /* gets rid of default border in Firefox and Opera. */\n",
       "                border: none;\n",
       "                /* Needs to be in here for Safari polyfill so background images work as expected. */\n",
       "                background-size: auto;\n",
       "            }\n",
       "            .progress-bar-interrupted, .progress-bar-interrupted::-webkit-progress-bar {\n",
       "                background: #F44336;\n",
       "            }\n",
       "        </style>\n",
       "      <progress value='8000' class='' max='8000' style='width:300px; height:20px; vertical-align: middle;'></progress>\n",
       "      100.00% [8000/8000 00:21<00:00 Sampling 4 chains, 0 divergences]\n",
       "    </div>\n",
       "    "
      ],
      "text/plain": [
       "<IPython.core.display.HTML object>"
      ]
     },
     "metadata": {},
     "output_type": "display_data"
    },
    {
     "name": "stderr",
     "output_type": "stream",
     "text": [
      "Sampling 4 chains for 1_000 tune and 1_000 draw iterations (4_000 + 4_000 draws total) took 22 seconds.\n"
     ]
    }
   ],
   "source": [
    "model = Model(hibbs)\n",
    "results = model.fit('vote ~ growth', samples=1000, chains=4)"
   ]
  },
  {
   "cell_type": "code",
   "execution_count": 11,
   "metadata": {},
   "outputs": [
    {
     "data": {
      "text/html": [
       "<div>\n",
       "<style scoped>\n",
       "    .dataframe tbody tr th:only-of-type {\n",
       "        vertical-align: middle;\n",
       "    }\n",
       "\n",
       "    .dataframe tbody tr th {\n",
       "        vertical-align: top;\n",
       "    }\n",
       "\n",
       "    .dataframe thead th {\n",
       "        text-align: right;\n",
       "    }\n",
       "</style>\n",
       "<table border=\"1\" class=\"dataframe\">\n",
       "  <thead>\n",
       "    <tr style=\"text-align: right;\">\n",
       "      <th></th>\n",
       "      <th>mean</th>\n",
       "      <th>sd</th>\n",
       "      <th>hpd0.95_lower</th>\n",
       "      <th>hpd0.95_upper</th>\n",
       "      <th>effective_n</th>\n",
       "      <th>gelman_rubin</th>\n",
       "    </tr>\n",
       "  </thead>\n",
       "  <tbody>\n",
       "    <tr>\n",
       "      <th>Intercept</th>\n",
       "      <td>47.197325</td>\n",
       "      <td>1.692537</td>\n",
       "      <td>43.943004</td>\n",
       "      <td>50.565797</td>\n",
       "      <td>1317.287518</td>\n",
       "      <td>1.000719</td>\n",
       "    </tr>\n",
       "    <tr>\n",
       "      <th>growth</th>\n",
       "      <td>2.627229</td>\n",
       "      <td>0.725685</td>\n",
       "      <td>1.248506</td>\n",
       "      <td>4.099710</td>\n",
       "      <td>1310.011265</td>\n",
       "      <td>1.001046</td>\n",
       "    </tr>\n",
       "    <tr>\n",
       "      <th>vote_sd</th>\n",
       "      <td>3.992831</td>\n",
       "      <td>0.679335</td>\n",
       "      <td>2.795701</td>\n",
       "      <td>5.369847</td>\n",
       "      <td>1171.548373</td>\n",
       "      <td>1.000554</td>\n",
       "    </tr>\n",
       "  </tbody>\n",
       "</table>\n",
       "</div>"
      ],
      "text/plain": [
       "                mean        sd  hpd0.95_lower  hpd0.95_upper  effective_n  \\\n",
       "Intercept  47.197325  1.692537      43.943004      50.565797  1317.287518   \n",
       "growth      2.627229  0.725685       1.248506       4.099710  1310.011265   \n",
       "vote_sd     3.992831  0.679335       2.795701       5.369847  1171.548373   \n",
       "\n",
       "           gelman_rubin  \n",
       "Intercept      1.000719  \n",
       "growth         1.001046  \n",
       "vote_sd        1.000554  "
      ]
     },
     "execution_count": 11,
     "metadata": {},
     "output_type": "execute_result"
    }
   ],
   "source": [
    "results.summary()"
   ]
  },
  {
   "cell_type": "markdown",
   "metadata": {},
   "source": [
    "### Ordinary Least Squares example\n",
    "On page 16 the authors mention the Least Squares Approach which is `lm` in the R code. If you prefer to use this approach in python the `statsmodel.ols` method is the equivalent"
   ]
  },
  {
   "cell_type": "code",
   "execution_count": 12,
   "metadata": {},
   "outputs": [
    {
     "name": "stderr",
     "output_type": "stream",
     "text": [
      "/opt/conda/lib/python3.7/site-packages/scipy/stats/stats.py:1604: UserWarning: kurtosistest only valid for n>=20 ... continuing anyway, n=16\n",
      "  \"anyway, n=%i\" % int(n))\n"
     ]
    },
    {
     "data": {
      "text/html": [
       "<table class=\"simpletable\">\n",
       "<caption>OLS Regression Results</caption>\n",
       "<tr>\n",
       "  <th>Dep. Variable:</th>          <td>vote</td>       <th>  R-squared:         </th> <td>   0.580</td>\n",
       "</tr>\n",
       "<tr>\n",
       "  <th>Model:</th>                   <td>OLS</td>       <th>  Adj. R-squared:    </th> <td>   0.550</td>\n",
       "</tr>\n",
       "<tr>\n",
       "  <th>Method:</th>             <td>Least Squares</td>  <th>  F-statistic:       </th> <td>   19.32</td>\n",
       "</tr>\n",
       "<tr>\n",
       "  <th>Date:</th>             <td>Sun, 28 Jun 2020</td> <th>  Prob (F-statistic):</th> <td>0.000610</td>\n",
       "</tr>\n",
       "<tr>\n",
       "  <th>Time:</th>                 <td>04:59:51</td>     <th>  Log-Likelihood:    </th> <td> -42.839</td>\n",
       "</tr>\n",
       "<tr>\n",
       "  <th>No. Observations:</th>      <td>    16</td>      <th>  AIC:               </th> <td>   89.68</td>\n",
       "</tr>\n",
       "<tr>\n",
       "  <th>Df Residuals:</th>          <td>    14</td>      <th>  BIC:               </th> <td>   91.22</td>\n",
       "</tr>\n",
       "<tr>\n",
       "  <th>Df Model:</th>              <td>     1</td>      <th>                     </th>     <td> </td>   \n",
       "</tr>\n",
       "<tr>\n",
       "  <th>Covariance Type:</th>      <td>nonrobust</td>    <th>                     </th>     <td> </td>   \n",
       "</tr>\n",
       "</table>\n",
       "<table class=\"simpletable\">\n",
       "<tr>\n",
       "      <td></td>         <th>coef</th>     <th>std err</th>      <th>t</th>      <th>P>|t|</th>  <th>[0.025</th>    <th>0.975]</th>  \n",
       "</tr>\n",
       "<tr>\n",
       "  <th>Intercept</th> <td>   46.2476</td> <td>    1.622</td> <td>   28.514</td> <td> 0.000</td> <td>   42.769</td> <td>   49.726</td>\n",
       "</tr>\n",
       "<tr>\n",
       "  <th>growth</th>    <td>    3.0605</td> <td>    0.696</td> <td>    4.396</td> <td> 0.001</td> <td>    1.567</td> <td>    4.554</td>\n",
       "</tr>\n",
       "</table>\n",
       "<table class=\"simpletable\">\n",
       "<tr>\n",
       "  <th>Omnibus:</th>       <td> 5.392</td> <th>  Durbin-Watson:     </th> <td>   2.379</td>\n",
       "</tr>\n",
       "<tr>\n",
       "  <th>Prob(Omnibus):</th> <td> 0.067</td> <th>  Jarque-Bera (JB):  </th> <td>   2.828</td>\n",
       "</tr>\n",
       "<tr>\n",
       "  <th>Skew:</th>          <td>-0.961</td> <th>  Prob(JB):          </th> <td>   0.243</td>\n",
       "</tr>\n",
       "<tr>\n",
       "  <th>Kurtosis:</th>      <td> 3.738</td> <th>  Cond. No.          </th> <td>    4.54</td>\n",
       "</tr>\n",
       "</table><br/><br/>Warnings:<br/>[1] Standard Errors assume that the covariance matrix of the errors is correctly specified."
      ],
      "text/plain": [
       "<class 'statsmodels.iolib.summary.Summary'>\n",
       "\"\"\"\n",
       "                            OLS Regression Results                            \n",
       "==============================================================================\n",
       "Dep. Variable:                   vote   R-squared:                       0.580\n",
       "Model:                            OLS   Adj. R-squared:                  0.550\n",
       "Method:                 Least Squares   F-statistic:                     19.32\n",
       "Date:                Sun, 28 Jun 2020   Prob (F-statistic):           0.000610\n",
       "Time:                        04:59:51   Log-Likelihood:                -42.839\n",
       "No. Observations:                  16   AIC:                             89.68\n",
       "Df Residuals:                      14   BIC:                             91.22\n",
       "Df Model:                           1                                         \n",
       "Covariance Type:            nonrobust                                         \n",
       "==============================================================================\n",
       "                 coef    std err          t      P>|t|      [0.025      0.975]\n",
       "------------------------------------------------------------------------------\n",
       "Intercept     46.2476      1.622     28.514      0.000      42.769      49.726\n",
       "growth         3.0605      0.696      4.396      0.001       1.567       4.554\n",
       "==============================================================================\n",
       "Omnibus:                        5.392   Durbin-Watson:                   2.379\n",
       "Prob(Omnibus):                  0.067   Jarque-Bera (JB):                2.828\n",
       "Skew:                          -0.961   Prob(JB):                        0.243\n",
       "Kurtosis:                       3.738   Cond. No.                         4.54\n",
       "==============================================================================\n",
       "\n",
       "Warnings:\n",
       "[1] Standard Errors assume that the covariance matrix of the errors is correctly specified.\n",
       "\"\"\""
      ]
     },
     "execution_count": 12,
     "metadata": {},
     "output_type": "execute_result"
    }
   ],
   "source": [
    "results = smf.ols('vote ~ growth', data=hibbs).fit()\n",
    "results.summary()"
   ]
  }
 ],
 "metadata": {
  "kernelspec": {
   "display_name": "Python 3",
   "language": "python",
   "name": "python3"
  },
  "language_info": {
   "codemirror_mode": {
    "name": "ipython",
    "version": 3
   },
   "file_extension": ".py",
   "mimetype": "text/x-python",
   "name": "python",
   "nbconvert_exporter": "python",
   "pygments_lexer": "ipython3",
   "version": "3.7.6"
  }
 },
 "nbformat": 4,
 "nbformat_minor": 4
}
