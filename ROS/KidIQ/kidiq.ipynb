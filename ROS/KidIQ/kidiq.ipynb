{
 "cells": [
  {
   "cell_type": "markdown",
   "metadata": {},
   "source": [
    "# Regression and Other Stories: Elections Economy\n",
    "Linear regression with multiple predictors. See Chapters 10, 11 and 12 in Regression and Other Stories."
   ]
  },
  {
   "cell_type": "code",
   "execution_count": 1,
   "metadata": {},
   "outputs": [
    {
     "name": "stderr",
     "output_type": "stream",
     "text": [
      "WARNING (theano.configdefaults): install mkl with `conda install mkl-service`: No module named 'mkl'\n",
      "WARNING (theano.tensor.blas): Using NumPy C-API based implementation for BLAS functions.\n"
     ]
    }
   ],
   "source": [
    "import arviz as az\n",
    "from bambi import Model\n",
    "import pandas as pd\n",
    "import numpy as np\n",
    "import matplotlib.pyplot as plt\n",
    "from scipy import stats\n",
    "import statsmodels.formula.api as smf"
   ]
  },
  {
   "cell_type": "code",
   "execution_count": 18,
   "metadata": {},
   "outputs": [
    {
     "data": {
      "text/html": [
       "<div>\n",
       "<style scoped>\n",
       "    .dataframe tbody tr th:only-of-type {\n",
       "        vertical-align: middle;\n",
       "    }\n",
       "\n",
       "    .dataframe tbody tr th {\n",
       "        vertical-align: top;\n",
       "    }\n",
       "\n",
       "    .dataframe thead th {\n",
       "        text-align: right;\n",
       "    }\n",
       "</style>\n",
       "<table border=\"1\" class=\"dataframe\">\n",
       "  <thead>\n",
       "    <tr style=\"text-align: right;\">\n",
       "      <th></th>\n",
       "      <th>Unnamed: 0</th>\n",
       "      <th>kid_score</th>\n",
       "      <th>mom_hs</th>\n",
       "      <th>mom_iq</th>\n",
       "      <th>mom_work</th>\n",
       "      <th>mom_age</th>\n",
       "    </tr>\n",
       "  </thead>\n",
       "  <tbody>\n",
       "    <tr>\n",
       "      <th>0</th>\n",
       "      <td>1</td>\n",
       "      <td>65</td>\n",
       "      <td>1</td>\n",
       "      <td>121.117529</td>\n",
       "      <td>4</td>\n",
       "      <td>27</td>\n",
       "    </tr>\n",
       "    <tr>\n",
       "      <th>1</th>\n",
       "      <td>2</td>\n",
       "      <td>98</td>\n",
       "      <td>1</td>\n",
       "      <td>89.361882</td>\n",
       "      <td>4</td>\n",
       "      <td>25</td>\n",
       "    </tr>\n",
       "    <tr>\n",
       "      <th>2</th>\n",
       "      <td>3</td>\n",
       "      <td>85</td>\n",
       "      <td>1</td>\n",
       "      <td>115.443165</td>\n",
       "      <td>4</td>\n",
       "      <td>27</td>\n",
       "    </tr>\n",
       "    <tr>\n",
       "      <th>3</th>\n",
       "      <td>4</td>\n",
       "      <td>83</td>\n",
       "      <td>1</td>\n",
       "      <td>99.449639</td>\n",
       "      <td>3</td>\n",
       "      <td>25</td>\n",
       "    </tr>\n",
       "    <tr>\n",
       "      <th>4</th>\n",
       "      <td>5</td>\n",
       "      <td>115</td>\n",
       "      <td>1</td>\n",
       "      <td>92.745710</td>\n",
       "      <td>4</td>\n",
       "      <td>27</td>\n",
       "    </tr>\n",
       "  </tbody>\n",
       "</table>\n",
       "</div>"
      ],
      "text/plain": [
       "   Unnamed: 0  kid_score  mom_hs      mom_iq  mom_work  mom_age\n",
       "0           1         65       1  121.117529         4       27\n",
       "1           2         98       1   89.361882         4       25\n",
       "2           3         85       1  115.443165         4       27\n",
       "3           4         83       1   99.449639         3       25\n",
       "4           5        115       1   92.745710         4       27"
      ]
     },
     "execution_count": 18,
     "metadata": {},
     "output_type": "execute_result"
    }
   ],
   "source": [
    "kidiq = pd.read_csv(\"kidiq.csv\")\n",
    "kidiq.head()"
   ]
  },
  {
   "cell_type": "markdown",
   "metadata": {},
   "source": [
    "### A single binary predictor"
   ]
  },
  {
   "cell_type": "code",
   "execution_count": 3,
   "metadata": {},
   "outputs": [
    {
     "name": "stderr",
     "output_type": "stream",
     "text": [
      "Auto-assigning NUTS sampler...\n",
      "INFO:pymc3:Auto-assigning NUTS sampler...\n",
      "Initializing NUTS using jitter+adapt_diag...\n",
      "INFO:pymc3:Initializing NUTS using jitter+adapt_diag...\n",
      "Multiprocess sampling (4 chains in 4 jobs)\n",
      "INFO:pymc3:Multiprocess sampling (4 chains in 4 jobs)\n",
      "NUTS: [kid_score_sd, mom_hs, Intercept]\n",
      "INFO:pymc3:NUTS: [kid_score_sd, mom_hs, Intercept]\n"
     ]
    },
    {
     "data": {
      "text/html": [
       "\n",
       "    <div>\n",
       "        <style>\n",
       "            /* Turns off some styling */\n",
       "            progress {\n",
       "                /* gets rid of default border in Firefox and Opera. */\n",
       "                border: none;\n",
       "                /* Needs to be in here for Safari polyfill so background images work as expected. */\n",
       "                background-size: auto;\n",
       "            }\n",
       "            .progress-bar-interrupted, .progress-bar-interrupted::-webkit-progress-bar {\n",
       "                background: #F44336;\n",
       "            }\n",
       "        </style>\n",
       "      <progress value='8000' class='' max='8000' style='width:300px; height:20px; vertical-align: middle;'></progress>\n",
       "      100.00% [8000/8000 00:03<00:00 Sampling 4 chains, 0 divergences]\n",
       "    </div>\n",
       "    "
      ],
      "text/plain": [
       "<IPython.core.display.HTML object>"
      ]
     },
     "metadata": {},
     "output_type": "display_data"
    },
    {
     "name": "stderr",
     "output_type": "stream",
     "text": [
      "Sampling 4 chains for 1_000 tune and 1_000 draw iterations (4_000 + 4_000 draws total) took 4 seconds.\n",
      "INFO:pymc3:Sampling 4 chains for 1_000 tune and 1_000 draw iterations (4_000 + 4_000 draws total) took 4 seconds.\n",
      "/opt/conda/lib/python3.8/site-packages/arviz/data/io_pymc3.py:85: FutureWarning: Using `from_pymc3` without the model will be deprecated in a future release. Not using the model will return less accurate and less useful results. Make sure you use the model argument or call from_pymc3 within a model context.\n",
      "  warnings.warn(\n"
     ]
    }
   ],
   "source": [
    "model = Model(kidiq)\n",
    "M1 = model.fit('kid_score ~ mom_hs', samples=1000, chains=4)"
   ]
  },
  {
   "cell_type": "code",
   "execution_count": 4,
   "metadata": {},
   "outputs": [
    {
     "data": {
      "text/html": [
       "<div>\n",
       "<style scoped>\n",
       "    .dataframe tbody tr th:only-of-type {\n",
       "        vertical-align: middle;\n",
       "    }\n",
       "\n",
       "    .dataframe tbody tr th {\n",
       "        vertical-align: top;\n",
       "    }\n",
       "\n",
       "    .dataframe thead th {\n",
       "        text-align: right;\n",
       "    }\n",
       "</style>\n",
       "<table border=\"1\" class=\"dataframe\">\n",
       "  <thead>\n",
       "    <tr style=\"text-align: right;\">\n",
       "      <th></th>\n",
       "      <th>Median</th>\n",
       "      <th>MAD_SD</th>\n",
       "    </tr>\n",
       "  </thead>\n",
       "  <tbody>\n",
       "    <tr>\n",
       "      <th>Intercept[0]</th>\n",
       "      <td>77.54</td>\n",
       "      <td>1.42</td>\n",
       "    </tr>\n",
       "    <tr>\n",
       "      <th>mom_hs[0]</th>\n",
       "      <td>11.76</td>\n",
       "      <td>1.62</td>\n",
       "    </tr>\n",
       "    <tr>\n",
       "      <th>kid_score_sd</th>\n",
       "      <td>19.71</td>\n",
       "      <td>0.34</td>\n",
       "    </tr>\n",
       "  </tbody>\n",
       "</table>\n",
       "</div>"
      ],
      "text/plain": [
       "              Median  MAD_SD\n",
       "Intercept[0]   77.54    1.42\n",
       "mom_hs[0]      11.76    1.62\n",
       "kid_score_sd   19.71    0.34"
      ]
     },
     "execution_count": 4,
     "metadata": {},
     "output_type": "execute_result"
    }
   ],
   "source": [
    "func_dict = {\"Median\": np.median,\n",
    "            \"MAD_SD\":stats.median_abs_deviation,\n",
    "             }\n",
    "coefs = az.summary(M1, stat_funcs=func_dict, extend=False, round_to=2)\n",
    "coefs"
   ]
  },
  {
   "cell_type": "markdown",
   "metadata": {},
   "source": [
    "### A single continuous predictor"
   ]
  },
  {
   "cell_type": "code",
   "execution_count": 5,
   "metadata": {},
   "outputs": [
    {
     "name": "stderr",
     "output_type": "stream",
     "text": [
      "Auto-assigning NUTS sampler...\n",
      "INFO:pymc3:Auto-assigning NUTS sampler...\n",
      "Initializing NUTS using jitter+adapt_diag...\n",
      "INFO:pymc3:Initializing NUTS using jitter+adapt_diag...\n",
      "Multiprocess sampling (4 chains in 4 jobs)\n",
      "INFO:pymc3:Multiprocess sampling (4 chains in 4 jobs)\n",
      "NUTS: [kid_score_sd, mom_iq, Intercept]\n",
      "INFO:pymc3:NUTS: [kid_score_sd, mom_iq, Intercept]\n"
     ]
    },
    {
     "data": {
      "text/html": [
       "\n",
       "    <div>\n",
       "        <style>\n",
       "            /* Turns off some styling */\n",
       "            progress {\n",
       "                /* gets rid of default border in Firefox and Opera. */\n",
       "                border: none;\n",
       "                /* Needs to be in here for Safari polyfill so background images work as expected. */\n",
       "                background-size: auto;\n",
       "            }\n",
       "            .progress-bar-interrupted, .progress-bar-interrupted::-webkit-progress-bar {\n",
       "                background: #F44336;\n",
       "            }\n",
       "        </style>\n",
       "      <progress value='8000' class='' max='8000' style='width:300px; height:20px; vertical-align: middle;'></progress>\n",
       "      100.00% [8000/8000 00:07<00:00 Sampling 4 chains, 0 divergences]\n",
       "    </div>\n",
       "    "
      ],
      "text/plain": [
       "<IPython.core.display.HTML object>"
      ]
     },
     "metadata": {},
     "output_type": "display_data"
    },
    {
     "name": "stderr",
     "output_type": "stream",
     "text": [
      "Sampling 4 chains for 1_000 tune and 1_000 draw iterations (4_000 + 4_000 draws total) took 8 seconds.\n",
      "INFO:pymc3:Sampling 4 chains for 1_000 tune and 1_000 draw iterations (4_000 + 4_000 draws total) took 8 seconds.\n",
      "The acceptance probability does not match the target. It is 0.893571901161748, but should be close to 0.8. Try to increase the number of tuning steps.\n",
      "WARNING:pymc3:The acceptance probability does not match the target. It is 0.893571901161748, but should be close to 0.8. Try to increase the number of tuning steps.\n",
      "The acceptance probability does not match the target. It is 0.9001151915763549, but should be close to 0.8. Try to increase the number of tuning steps.\n",
      "WARNING:pymc3:The acceptance probability does not match the target. It is 0.9001151915763549, but should be close to 0.8. Try to increase the number of tuning steps.\n",
      "/opt/conda/lib/python3.8/site-packages/arviz/data/io_pymc3.py:85: FutureWarning: Using `from_pymc3` without the model will be deprecated in a future release. Not using the model will return less accurate and less useful results. Make sure you use the model argument or call from_pymc3 within a model context.\n",
      "  warnings.warn(\n"
     ]
    }
   ],
   "source": [
    "model = Model(kidiq)\n",
    "fit_2 = model.fit('kid_score ~ mom_iq', samples=1000, chains=4)"
   ]
  },
  {
   "cell_type": "code",
   "execution_count": 6,
   "metadata": {},
   "outputs": [
    {
     "data": {
      "text/html": [
       "<div>\n",
       "<style scoped>\n",
       "    .dataframe tbody tr th:only-of-type {\n",
       "        vertical-align: middle;\n",
       "    }\n",
       "\n",
       "    .dataframe tbody tr th {\n",
       "        vertical-align: top;\n",
       "    }\n",
       "\n",
       "    .dataframe thead th {\n",
       "        text-align: right;\n",
       "    }\n",
       "</style>\n",
       "<table border=\"1\" class=\"dataframe\">\n",
       "  <thead>\n",
       "    <tr style=\"text-align: right;\">\n",
       "      <th></th>\n",
       "      <th>Median</th>\n",
       "      <th>MAD_SD</th>\n",
       "    </tr>\n",
       "  </thead>\n",
       "  <tbody>\n",
       "    <tr>\n",
       "      <th>Intercept[0]</th>\n",
       "      <td>26.28</td>\n",
       "      <td>4.01</td>\n",
       "    </tr>\n",
       "    <tr>\n",
       "      <th>mom_iq[0]</th>\n",
       "      <td>0.61</td>\n",
       "      <td>0.04</td>\n",
       "    </tr>\n",
       "    <tr>\n",
       "      <th>kid_score_sd</th>\n",
       "      <td>18.34</td>\n",
       "      <td>0.45</td>\n",
       "    </tr>\n",
       "  </tbody>\n",
       "</table>\n",
       "</div>"
      ],
      "text/plain": [
       "              Median  MAD_SD\n",
       "Intercept[0]   26.28    4.01\n",
       "mom_iq[0]       0.61    0.04\n",
       "kid_score_sd   18.34    0.45"
      ]
     },
     "execution_count": 6,
     "metadata": {},
     "output_type": "execute_result"
    }
   ],
   "source": [
    "func_dict = {\"Median\": np.median,\n",
    "            \"MAD_SD\":stats.median_abs_deviation,\n",
    "             }\n",
    "coefs = az.summary(fit_2, stat_funcs=func_dict, extend=False, round_to=2)\n",
    "coefs"
   ]
  },
  {
   "cell_type": "markdown",
   "metadata": {},
   "source": [
    "### Displaying a regression line as a function of one input variable"
   ]
  },
  {
   "cell_type": "code",
   "execution_count": 7,
   "metadata": {},
   "outputs": [
    {
     "data": {
      "image/png": "[encoded data removed]",
      "text/plain": [
       "<Figure size 432x288 with 1 Axes>"
      ]
     },
     "metadata": {
      "needs_background": "light"
     },
     "output_type": "display_data"
    }
   ],
   "source": [
    "# TODO: Change the plot from points to years\n",
    "fig, ax = plt.subplots()\n",
    "\n",
    "a_hat = coefs.loc[\"Intercept[0]\", \"Median\"]\n",
    "b_hat = coefs.loc[\"mom_iq[0]\", \"Median\"]\n",
    "\n",
    "# Generate x range\n",
    "iq_domain = np.linspace(kidiq[\"mom_iq\"].min(), kidiq[\"mom_iq\"].max(), 100)\n",
    "\n",
    "# Plot Line\n",
    "ax.plot(iq_domain, a_hat+b_hat*iq_domain)\n",
    "\n",
    "\n",
    "# Add scatter plot\n",
    "kidiq.plot(kind=\"scatter\", x=\"mom_iq\", y=\"kid_score\", ax=ax)\n",
    "ax.set_xlabel(\"Mother IQ score\")\n",
    "ax.set_ylabel(\"Child test score\");"
   ]
  },
  {
   "cell_type": "markdown",
   "metadata": {},
   "source": [
    "## Two predictors\n",
    "### Linear Regression"
   ]
  },
  {
   "cell_type": "code",
   "execution_count": 8,
   "metadata": {},
   "outputs": [
    {
     "name": "stderr",
     "output_type": "stream",
     "text": [
      "Auto-assigning NUTS sampler...\n",
      "INFO:pymc3:Auto-assigning NUTS sampler...\n",
      "Initializing NUTS using jitter+adapt_diag...\n",
      "INFO:pymc3:Initializing NUTS using jitter+adapt_diag...\n",
      "Multiprocess sampling (4 chains in 4 jobs)\n",
      "INFO:pymc3:Multiprocess sampling (4 chains in 4 jobs)\n",
      "NUTS: [kid_score_sd, mom_iq, mom_hs, Intercept]\n",
      "INFO:pymc3:NUTS: [kid_score_sd, mom_iq, mom_hs, Intercept]\n"
     ]
    },
    {
     "data": {
      "text/html": [
       "\n",
       "    <div>\n",
       "        <style>\n",
       "            /* Turns off some styling */\n",
       "            progress {\n",
       "                /* gets rid of default border in Firefox and Opera. */\n",
       "                border: none;\n",
       "                /* Needs to be in here for Safari polyfill so background images work as expected. */\n",
       "                background-size: auto;\n",
       "            }\n",
       "            .progress-bar-interrupted, .progress-bar-interrupted::-webkit-progress-bar {\n",
       "                background: #F44336;\n",
       "            }\n",
       "        </style>\n",
       "      <progress value='8000' class='' max='8000' style='width:300px; height:20px; vertical-align: middle;'></progress>\n",
       "      100.00% [8000/8000 00:10<00:00 Sampling 4 chains, 0 divergences]\n",
       "    </div>\n",
       "    "
      ],
      "text/plain": [
       "<IPython.core.display.HTML object>"
      ]
     },
     "metadata": {},
     "output_type": "display_data"
    },
    {
     "name": "stderr",
     "output_type": "stream",
     "text": [
      "Sampling 4 chains for 1_000 tune and 1_000 draw iterations (4_000 + 4_000 draws total) took 11 seconds.\n",
      "INFO:pymc3:Sampling 4 chains for 1_000 tune and 1_000 draw iterations (4_000 + 4_000 draws total) took 11 seconds.\n",
      "/opt/conda/lib/python3.8/site-packages/arviz/data/io_pymc3.py:85: FutureWarning: Using `from_pymc3` without the model will be deprecated in a future release. Not using the model will return less accurate and less useful results. Make sure you use the model argument or call from_pymc3 within a model context.\n",
      "  warnings.warn(\n"
     ]
    }
   ],
   "source": [
    "model = Model(kidiq)\n",
    "fit_3 = model.fit('kid_score ~ mom_hs + mom_iq', samples=1000, chains=4)"
   ]
  },
  {
   "cell_type": "code",
   "execution_count": 9,
   "metadata": {},
   "outputs": [
    {
     "data": {
      "text/html": [
       "<div>\n",
       "<style scoped>\n",
       "    .dataframe tbody tr th:only-of-type {\n",
       "        vertical-align: middle;\n",
       "    }\n",
       "\n",
       "    .dataframe tbody tr th {\n",
       "        vertical-align: top;\n",
       "    }\n",
       "\n",
       "    .dataframe thead th {\n",
       "        text-align: right;\n",
       "    }\n",
       "</style>\n",
       "<table border=\"1\" class=\"dataframe\">\n",
       "  <thead>\n",
       "    <tr style=\"text-align: right;\">\n",
       "      <th></th>\n",
       "      <th>Median</th>\n",
       "      <th>MAD_SD</th>\n",
       "    </tr>\n",
       "  </thead>\n",
       "  <tbody>\n",
       "    <tr>\n",
       "      <th>Intercept[0]</th>\n",
       "      <td>26.05</td>\n",
       "      <td>4.09</td>\n",
       "    </tr>\n",
       "    <tr>\n",
       "      <th>mom_hs[0]</th>\n",
       "      <td>6.01</td>\n",
       "      <td>1.52</td>\n",
       "    </tr>\n",
       "    <tr>\n",
       "      <th>mom_iq[0]</th>\n",
       "      <td>0.56</td>\n",
       "      <td>0.04</td>\n",
       "    </tr>\n",
       "    <tr>\n",
       "      <th>kid_score_sd</th>\n",
       "      <td>18.17</td>\n",
       "      <td>0.42</td>\n",
       "    </tr>\n",
       "  </tbody>\n",
       "</table>\n",
       "</div>"
      ],
      "text/plain": [
       "              Median  MAD_SD\n",
       "Intercept[0]   26.05    4.09\n",
       "mom_hs[0]       6.01    1.52\n",
       "mom_iq[0]       0.56    0.04\n",
       "kid_score_sd   18.17    0.42"
      ]
     },
     "execution_count": 9,
     "metadata": {},
     "output_type": "execute_result"
    }
   ],
   "source": [
    "func_dict = {\"Median\": np.median,\n",
    "            \"MAD_SD\":stats.median_abs_deviation,\n",
    "             }\n",
    "coefs = az.summary(fit_3, stat_funcs=func_dict, extend=False, round_to=2)\n",
    "coefs"
   ]
  },
  {
   "cell_type": "markdown",
   "metadata": {},
   "source": [
    "## Graphical displays of data and fitted models"
   ]
  },
  {
   "cell_type": "code",
   "execution_count": 10,
   "metadata": {},
   "outputs": [
    {
     "name": "stderr",
     "output_type": "stream",
     "text": [
      "/opt/conda/lib/python3.8/site-packages/pandas/plotting/_matplotlib/core.py:969: MatplotlibDeprecationWarning: Support for uppercase single-letter colors is deprecated since Matplotlib 3.1 and will be removed in 3.3; please use lowercase instead.\n",
      "  scatter = ax.scatter(\n"
     ]
    },
    {
     "data": {
      "image/png": "[encoded data removed]",
      "text/plain": [
       "<Figure size 432x288 with 1 Axes>"
      ]
     },
     "metadata": {
      "needs_background": "light"
     },
     "output_type": "display_data"
    }
   ],
   "source": [
    "# TODO: Change the plot from points to years\n",
    "fig, ax = plt.subplots()\n",
    "\n",
    "\n",
    "# Generate x range\n",
    "iq_domain = np.linspace(kidiq[\"mom_iq\"].min(), kidiq[\"mom_iq\"].max(), 100)\n",
    "\n",
    "# # Plot No HS Line\n",
    "ax.plot(iq_domain, coefs.loc[\"Intercept[0]\", \"Median\"]+coefs.loc[\"mom_iq[0]\", \"Median\"]*iq_domain, c=\"b\")\n",
    "ax.plot(iq_domain, coefs.loc[\"Intercept[0]\", \"Median\"] + coefs.loc[\"mom_iq[0]\", \"Median\"]*iq_domain + coefs.loc[\"mom_hs[0]\", \"Median\"], c=\"g\" )\n",
    "\n",
    "\n",
    "# Add scatter plot\n",
    "kidiq.plot(kind=\"scatter\", x=\"mom_iq\", y=\"kid_score\", c=kidiq[\"mom_hs\"].replace({0: \"B\", 1:\"G\"}), ax=ax)\n",
    "ax.set_xlabel(\"Mother IQ score\")\n",
    "ax.set_ylabel(\"Child test score\");"
   ]
  },
  {
   "cell_type": "markdown",
   "metadata": {},
   "source": [
    "### Two fitted regression lines – model with interaction"
   ]
  },
  {
   "cell_type": "code",
   "execution_count": 11,
   "metadata": {},
   "outputs": [
    {
     "name": "stderr",
     "output_type": "stream",
     "text": [
      "Auto-assigning NUTS sampler...\n",
      "INFO:pymc3:Auto-assigning NUTS sampler...\n",
      "Initializing NUTS using jitter+adapt_diag...\n",
      "INFO:pymc3:Initializing NUTS using jitter+adapt_diag...\n",
      "Multiprocess sampling (4 chains in 4 jobs)\n",
      "INFO:pymc3:Multiprocess sampling (4 chains in 4 jobs)\n",
      "NUTS: [kid_score_sd, mom_hs:mom_iq, mom_iq, mom_hs, Intercept]\n",
      "INFO:pymc3:NUTS: [kid_score_sd, mom_hs:mom_iq, mom_iq, mom_hs, Intercept]\n"
     ]
    },
    {
     "data": {
      "text/html": [
       "\n",
       "    <div>\n",
       "        <style>\n",
       "            /* Turns off some styling */\n",
       "            progress {\n",
       "                /* gets rid of default border in Firefox and Opera. */\n",
       "                border: none;\n",
       "                /* Needs to be in here for Safari polyfill so background images work as expected. */\n",
       "                background-size: auto;\n",
       "            }\n",
       "            .progress-bar-interrupted, .progress-bar-interrupted::-webkit-progress-bar {\n",
       "                background: #F44336;\n",
       "            }\n",
       "        </style>\n",
       "      <progress value='8000' class='' max='8000' style='width:300px; height:20px; vertical-align: middle;'></progress>\n",
       "      100.00% [8000/8000 00:20<00:00 Sampling 4 chains, 39 divergences]\n",
       "    </div>\n",
       "    "
      ],
      "text/plain": [
       "<IPython.core.display.HTML object>"
      ]
     },
     "metadata": {},
     "output_type": "display_data"
    },
    {
     "name": "stderr",
     "output_type": "stream",
     "text": [
      "Sampling 4 chains for 1_000 tune and 1_000 draw iterations (4_000 + 4_000 draws total) took 21 seconds.\n",
      "INFO:pymc3:Sampling 4 chains for 1_000 tune and 1_000 draw iterations (4_000 + 4_000 draws total) took 21 seconds.\n",
      "There were 39 divergences after tuning. Increase `target_accept` or reparameterize.\n",
      "ERROR:pymc3:There were 39 divergences after tuning. Increase `target_accept` or reparameterize.\n",
      "The acceptance probability does not match the target. It is 0.8797642182917144, but should be close to 0.8. Try to increase the number of tuning steps.\n",
      "WARNING:pymc3:The acceptance probability does not match the target. It is 0.8797642182917144, but should be close to 0.8. Try to increase the number of tuning steps.\n",
      "The number of effective samples is smaller than 25% for some parameters.\n",
      "INFO:pymc3:The number of effective samples is smaller than 25% for some parameters.\n",
      "/opt/conda/lib/python3.8/site-packages/arviz/data/io_pymc3.py:85: FutureWarning: Using `from_pymc3` without the model will be deprecated in a future release. Not using the model will return less accurate and less useful results. Make sure you use the model argument or call from_pymc3 within a model context.\n",
      "  warnings.warn(\n"
     ]
    }
   ],
   "source": [
    "model = Model(kidiq)\n",
    "M4 = model.fit('kid_score ~ mom_hs + mom_iq + mom_hs*mom_iq', samples=1000, chains=4)"
   ]
  },
  {
   "cell_type": "code",
   "execution_count": 12,
   "metadata": {},
   "outputs": [
    {
     "data": {
      "text/html": [
       "<div>\n",
       "<style scoped>\n",
       "    .dataframe tbody tr th:only-of-type {\n",
       "        vertical-align: middle;\n",
       "    }\n",
       "\n",
       "    .dataframe tbody tr th {\n",
       "        vertical-align: top;\n",
       "    }\n",
       "\n",
       "    .dataframe thead th {\n",
       "        text-align: right;\n",
       "    }\n",
       "</style>\n",
       "<table border=\"1\" class=\"dataframe\">\n",
       "  <thead>\n",
       "    <tr style=\"text-align: right;\">\n",
       "      <th></th>\n",
       "      <th>Median</th>\n",
       "      <th>MAD_SD</th>\n",
       "    </tr>\n",
       "  </thead>\n",
       "  <tbody>\n",
       "    <tr>\n",
       "      <th>Intercept[0]</th>\n",
       "      <td>-10.88</td>\n",
       "      <td>9.66</td>\n",
       "    </tr>\n",
       "    <tr>\n",
       "      <th>mom_hs[0]</th>\n",
       "      <td>50.56</td>\n",
       "      <td>10.71</td>\n",
       "    </tr>\n",
       "    <tr>\n",
       "      <th>mom_iq[0]</th>\n",
       "      <td>0.96</td>\n",
       "      <td>0.10</td>\n",
       "    </tr>\n",
       "    <tr>\n",
       "      <th>mom_hs:mom_iq[0]</th>\n",
       "      <td>-0.48</td>\n",
       "      <td>0.11</td>\n",
       "    </tr>\n",
       "    <tr>\n",
       "      <th>kid_score_sd</th>\n",
       "      <td>18.03</td>\n",
       "      <td>0.42</td>\n",
       "    </tr>\n",
       "  </tbody>\n",
       "</table>\n",
       "</div>"
      ],
      "text/plain": [
       "                  Median  MAD_SD\n",
       "Intercept[0]      -10.88    9.66\n",
       "mom_hs[0]          50.56   10.71\n",
       "mom_iq[0]           0.96    0.10\n",
       "mom_hs:mom_iq[0]   -0.48    0.11\n",
       "kid_score_sd       18.03    0.42"
      ]
     },
     "execution_count": 12,
     "metadata": {},
     "output_type": "execute_result"
    }
   ],
   "source": [
    "func_dict = {\"Median\": np.median,\n",
    "            \"MAD_SD\":stats.median_abs_deviation,\n",
    "             }\n",
    "coefs = az.summary(M4, stat_funcs=func_dict, extend=False, round_to=2)\n",
    "coefs"
   ]
  },
  {
   "cell_type": "code",
   "execution_count": 13,
   "metadata": {},
   "outputs": [
    {
     "data": {
      "image/png": "[encoded data removed]",
      "text/plain": [
       "<Figure size 432x288 with 1 Axes>"
      ]
     },
     "metadata": {
      "needs_background": "light"
     },
     "output_type": "display_data"
    }
   ],
   "source": [
    "# TODO: Change the plot from points to years\n",
    "fig, ax = plt.subplots()\n",
    "\n",
    "\n",
    "# Generate x range\n",
    "iq_domain = np.linspace(kidiq[\"mom_iq\"].min(), kidiq[\"mom_iq\"].max(), 100)\n",
    "\n",
    "\n",
    "# # Plot No HS Line\n",
    "ax.plot(iq_domain, coefs.loc[\"Intercept[0]\", \"Median\"]+coefs.loc[\"mom_iq[0]\", \"Median\"]*iq_domain, c=\"b\")\n",
    "ax.plot(iq_domain, coefs.loc[\"Intercept[0]\", \"Median\"] +\n",
    "        coefs.loc[\"mom_iq[0]\", \"Median\"]*iq_domain + \n",
    "        coefs.loc[\"mom_hs[0]\", \"Median\"] +\n",
    "        coefs.loc[\"mom_hs:mom_iq[0]\", \"Median\"]*iq_domain,\n",
    "        c=\"g\" )\n",
    "\n",
    "\n",
    "# Add scatter plot\n",
    "kidiq.plot(kind=\"scatter\", x=\"mom_iq\", y=\"kid_score\", c=kidiq[\"mom_hs\"].replace({0: \"B\", 1:\"G\"}), ax=ax)\n",
    "ax.set_xlabel(\"Mother IQ score\")\n",
    "ax.set_ylabel(\"Child test score\");"
   ]
  },
  {
   "cell_type": "markdown",
   "metadata": {},
   "source": [
    "### Displaying uncertainty in the fitted regression\n",
    "#### A single continuous predictor"
   ]
  },
  {
   "cell_type": "code",
   "execution_count": 14,
   "metadata": {},
   "outputs": [
    {
     "data": {
      "image/png": "[encoded data removed]",
      "text/plain": [
       "<Figure size 432x288 with 1 Axes>"
      ]
     },
     "metadata": {
      "needs_background": "light"
     },
     "output_type": "display_data"
    }
   ],
   "source": [
    "fig, ax = plt.subplots()\n",
    "\n",
    "# Generate x range\n",
    "iq_domain = np.linspace(kidiq[\"mom_iq\"].min(), kidiq[\"mom_iq\"].max(), 100)\n",
    "\n",
    "# Take 10 sample from posterior\n",
    "num_samples = 10\n",
    "chain_sample = fit_2.posterior.chain.to_series().sample(num_samples, replace=True)\n",
    "draw_sample = fit_2.posterior.draw.to_series().sample(num_samples, replace=True)\n",
    "\n",
    "for chain, draw in zip(chain_sample, draw_sample):\n",
    "    a_hat = fit_2.posterior[{\"draw\":draw, \"chain\":chain}][\"Intercept\"].values\n",
    "    b_hat = fit_2.posterior[{\"draw\":draw, \"chain\":chain}][\"mom_iq\"].values\n",
    "    \n",
    "    \n",
    "    #breakpoint()\n",
    "    # Plot Line\n",
    "    ax.plot(iq_domain, a_hat+b_hat*iq_domain, c=\"black\", alpha=.3)\n",
    "\n",
    "# Add median line later\n",
    "    \n",
    "# Add scatter plot\n",
    "kidiq.plot(kind=\"scatter\", x=\"mom_iq\", y=\"kid_score\", ax=ax)\n",
    "ax.set_xlabel(\"Mother IQ score\")\n",
    "ax.set_ylabel(\"Child test score\");"
   ]
  },
  {
   "cell_type": "markdown",
   "metadata": {},
   "source": [
    "### Two predictors"
   ]
  },
  {
   "cell_type": "code",
   "execution_count": 15,
   "metadata": {},
   "outputs": [
    {
     "data": {
      "image/png": "[encoded data removed]",
      "text/plain": [
       "<Figure size 720x432 with 2 Axes>"
      ]
     },
     "metadata": {
      "needs_background": "light"
     },
     "output_type": "display_data"
    }
   ],
   "source": [
    "fig, axes = plt.subplots(1,2, figsize=(10, 6))\n",
    "\n",
    "# Generate x range\n",
    "iq_domain = np.linspace(kidiq[\"mom_iq\"].min(), kidiq[\"mom_iq\"].max(), 100)\n",
    "completed_hs = np.array([0,1])\n",
    "\n",
    "# Take 10 sample from posterior\n",
    "num_samples = 10\n",
    "chain_sample = fit_3.posterior.chain.to_series().sample(num_samples, replace=True)\n",
    "draw_sample = fit_3.posterior.draw.to_series().sample(num_samples, replace=True)\n",
    "\n",
    "mom_iq_mean, mom_hs_mean = kidiq[[\"mom_iq\", \"mom_hs\"]].mean()\n",
    "\n",
    "for chain, draw in zip(chain_sample, draw_sample):\n",
    "    intercept = fit_3.posterior[{\"draw\":draw, \"chain\":chain}][\"Intercept\"].values\n",
    "    mom_iq_coef = fit_3.posterior[{\"draw\":draw, \"chain\":chain}][\"mom_iq\"].values\n",
    "    mom_hs_coef = fit_3.posterior[{\"draw\":draw, \"chain\":chain}][\"mom_hs\"].values\n",
    "\n",
    "    \n",
    "    #breakpoint()\n",
    "    # Plot Line\n",
    "    axes[0].plot(iq_domain, intercept + mom_iq_coef*iq_domain + mom_hs_coef*mom_hs_mean, c=\"black\", alpha=.3)\n",
    "    axes[1].plot(completed_hs, intercept + mom_iq_coef*mom_iq_mean + mom_hs_coef * completed_hs, c=\"black\", alpha=.3)\n",
    "\n",
    "\n",
    "# Add median line later\n",
    "    \n",
    "# Add scatter plot\n",
    "kidiq.plot(kind=\"scatter\", x=\"mom_iq\", y=\"kid_score\", ax=axes[0])\n",
    "kidiq.plot(kind=\"scatter\", x=\"mom_hs\", y=\"kid_score\", ax=axes[1])\n",
    "\n",
    "# TODO Add jitter\n",
    "ax.set_xlabel(\"Mother IQ score\")\n",
    "ax.set_ylabel(\"Child test score\");"
   ]
  },
  {
   "cell_type": "markdown",
   "metadata": {},
   "source": [
    "### Center predictors to have zero mean"
   ]
  },
  {
   "cell_type": "code",
   "execution_count": 20,
   "metadata": {},
   "outputs": [],
   "source": [
    "kidiq[\"c_mom_hs\"] = kidiq[\"mom_hs\"] - kidiq[\"mom_hs\"].mean()\n",
    "kidiq[\"c_mom_iq\"] = kidiq[\"mom_iq\"] - kidiq[\"mom_iq\"].mean()"
   ]
  },
  {
   "cell_type": "code",
   "execution_count": 22,
   "metadata": {},
   "outputs": [
    {
     "name": "stderr",
     "output_type": "stream",
     "text": [
      "Auto-assigning NUTS sampler...\n",
      "INFO:pymc3:Auto-assigning NUTS sampler...\n",
      "Initializing NUTS using jitter+adapt_diag...\n",
      "INFO:pymc3:Initializing NUTS using jitter+adapt_diag...\n",
      "Multiprocess sampling (4 chains in 4 jobs)\n",
      "INFO:pymc3:Multiprocess sampling (4 chains in 4 jobs)\n",
      "NUTS: [kid_score_sd, c_mom_hs:c_mom_iq, c_mom_iq, c_mom_hs, Intercept]\n",
      "INFO:pymc3:NUTS: [kid_score_sd, c_mom_hs:c_mom_iq, c_mom_iq, c_mom_hs, Intercept]\n"
     ]
    },
    {
     "data": {
      "text/html": [
       "\n",
       "    <div>\n",
       "        <style>\n",
       "            /* Turns off some styling */\n",
       "            progress {\n",
       "                /* gets rid of default border in Firefox and Opera. */\n",
       "                border: none;\n",
       "                /* Needs to be in here for Safari polyfill so background images work as expected. */\n",
       "                background-size: auto;\n",
       "            }\n",
       "            .progress-bar-interrupted, .progress-bar-interrupted::-webkit-progress-bar {\n",
       "                background: #F44336;\n",
       "            }\n",
       "        </style>\n",
       "      <progress value='8000' class='' max='8000' style='width:300px; height:20px; vertical-align: middle;'></progress>\n",
       "      100.00% [8000/8000 00:03<00:00 Sampling 4 chains, 0 divergences]\n",
       "    </div>\n",
       "    "
      ],
      "text/plain": [
       "<IPython.core.display.HTML object>"
      ]
     },
     "metadata": {},
     "output_type": "display_data"
    },
    {
     "name": "stderr",
     "output_type": "stream",
     "text": [
      "Sampling 4 chains for 1_000 tune and 1_000 draw iterations (4_000 + 4_000 draws total) took 3 seconds.\n",
      "INFO:pymc3:Sampling 4 chains for 1_000 tune and 1_000 draw iterations (4_000 + 4_000 draws total) took 3 seconds.\n",
      "/opt/conda/lib/python3.8/site-packages/arviz/data/io_pymc3.py:85: FutureWarning: Using `from_pymc3` without the model will be deprecated in a future release. Not using the model will return less accurate and less useful results. Make sure you use the model argument or call from_pymc3 within a model context.\n",
      "  warnings.warn(\n"
     ]
    }
   ],
   "source": [
    "model = Model(kidiq)\n",
    "fit_4c = model.fit('kid_score ~ c_mom_hs + c_mom_iq + c_mom_hs:c_mom_iq', samples=1000, chains=4)"
   ]
  },
  {
   "cell_type": "code",
   "execution_count": 24,
   "metadata": {},
   "outputs": [
    {
     "data": {
      "text/html": [
       "<div>\n",
       "<style scoped>\n",
       "    .dataframe tbody tr th:only-of-type {\n",
       "        vertical-align: middle;\n",
       "    }\n",
       "\n",
       "    .dataframe tbody tr th {\n",
       "        vertical-align: top;\n",
       "    }\n",
       "\n",
       "    .dataframe thead th {\n",
       "        text-align: right;\n",
       "    }\n",
       "</style>\n",
       "<table border=\"1\" class=\"dataframe\">\n",
       "  <thead>\n",
       "    <tr style=\"text-align: right;\">\n",
       "      <th></th>\n",
       "      <th>Median</th>\n",
       "      <th>MAD_SD</th>\n",
       "    </tr>\n",
       "  </thead>\n",
       "  <tbody>\n",
       "    <tr>\n",
       "      <th>Intercept[0]</th>\n",
       "      <td>87.62</td>\n",
       "      <td>0.64</td>\n",
       "    </tr>\n",
       "    <tr>\n",
       "      <th>c_mom_hs[0]</th>\n",
       "      <td>2.83</td>\n",
       "      <td>1.65</td>\n",
       "    </tr>\n",
       "    <tr>\n",
       "      <th>c_mom_iq[0]</th>\n",
       "      <td>0.59</td>\n",
       "      <td>0.04</td>\n",
       "    </tr>\n",
       "    <tr>\n",
       "      <th>c_mom_hs:c_mom_iq[0]</th>\n",
       "      <td>-0.48</td>\n",
       "      <td>0.11</td>\n",
       "    </tr>\n",
       "    <tr>\n",
       "      <th>kid_score_sd</th>\n",
       "      <td>18.04</td>\n",
       "      <td>0.42</td>\n",
       "    </tr>\n",
       "  </tbody>\n",
       "</table>\n",
       "</div>"
      ],
      "text/plain": [
       "                      Median  MAD_SD\n",
       "Intercept[0]           87.62    0.64\n",
       "c_mom_hs[0]             2.83    1.65\n",
       "c_mom_iq[0]             0.59    0.04\n",
       "c_mom_hs:c_mom_iq[0]   -0.48    0.11\n",
       "kid_score_sd           18.04    0.42"
      ]
     },
     "execution_count": 24,
     "metadata": {},
     "output_type": "execute_result"
    }
   ],
   "source": [
    "func_dict = {\"Median\": np.median,\n",
    "            \"MAD_SD\":stats.median_abs_deviation,\n",
    "             }\n",
    "coefs = az.summary(fit_4c, stat_funcs=func_dict, extend=False, round_to=2)\n",
    "coefs"
   ]
  },
  {
   "cell_type": "markdown",
   "metadata": {},
   "source": [
    "### Center predictors based on a reference point"
   ]
  },
  {
   "cell_type": "code",
   "execution_count": 27,
   "metadata": {},
   "outputs": [],
   "source": [
    "kidiq[\"c2_mom_hs\"] = kidiq[\"mom_hs\"] - .5\n",
    "kidiq[\"c2_mom_iq\"] = kidiq[\"mom_iq\"] - 100"
   ]
  },
  {
   "cell_type": "code",
   "execution_count": 29,
   "metadata": {},
   "outputs": [
    {
     "name": "stderr",
     "output_type": "stream",
     "text": [
      "Auto-assigning NUTS sampler...\n",
      "INFO:pymc3:Auto-assigning NUTS sampler...\n",
      "Initializing NUTS using jitter+adapt_diag...\n",
      "INFO:pymc3:Initializing NUTS using jitter+adapt_diag...\n",
      "Multiprocess sampling (4 chains in 4 jobs)\n",
      "INFO:pymc3:Multiprocess sampling (4 chains in 4 jobs)\n",
      "NUTS: [kid_score_sd, c2_mom_hs:c2_mom_iq, c2_mom_iq, c2_mom_hs, Intercept]\n",
      "INFO:pymc3:NUTS: [kid_score_sd, c2_mom_hs:c2_mom_iq, c2_mom_iq, c2_mom_hs, Intercept]\n"
     ]
    },
    {
     "data": {
      "text/html": [
       "\n",
       "    <div>\n",
       "        <style>\n",
       "            /* Turns off some styling */\n",
       "            progress {\n",
       "                /* gets rid of default border in Firefox and Opera. */\n",
       "                border: none;\n",
       "                /* Needs to be in here for Safari polyfill so background images work as expected. */\n",
       "                background-size: auto;\n",
       "            }\n",
       "            .progress-bar-interrupted, .progress-bar-interrupted::-webkit-progress-bar {\n",
       "                background: #F44336;\n",
       "            }\n",
       "        </style>\n",
       "      <progress value='8000' class='' max='8000' style='width:300px; height:20px; vertical-align: middle;'></progress>\n",
       "      100.00% [8000/8000 00:03<00:00 Sampling 4 chains, 0 divergences]\n",
       "    </div>\n",
       "    "
      ],
      "text/plain": [
       "<IPython.core.display.HTML object>"
      ]
     },
     "metadata": {},
     "output_type": "display_data"
    },
    {
     "name": "stderr",
     "output_type": "stream",
     "text": [
      "Sampling 4 chains for 1_000 tune and 1_000 draw iterations (4_000 + 4_000 draws total) took 3 seconds.\n",
      "INFO:pymc3:Sampling 4 chains for 1_000 tune and 1_000 draw iterations (4_000 + 4_000 draws total) took 3 seconds.\n",
      "/opt/conda/lib/python3.8/site-packages/arviz/data/io_pymc3.py:85: FutureWarning: Using `from_pymc3` without the model will be deprecated in a future release. Not using the model will return less accurate and less useful results. Make sure you use the model argument or call from_pymc3 within a model context.\n",
      "  warnings.warn(\n"
     ]
    }
   ],
   "source": [
    "model = Model(kidiq)\n",
    "fit_4c2 = model.fit('kid_score ~ c2_mom_hs + c2_mom_iq + c2_mom_hs:c2_mom_iq', samples=1000, chains=4)"
   ]
  },
  {
   "cell_type": "code",
   "execution_count": 30,
   "metadata": {},
   "outputs": [
    {
     "data": {
      "text/html": [
       "<div>\n",
       "<style scoped>\n",
       "    .dataframe tbody tr th:only-of-type {\n",
       "        vertical-align: middle;\n",
       "    }\n",
       "\n",
       "    .dataframe tbody tr th {\n",
       "        vertical-align: top;\n",
       "    }\n",
       "\n",
       "    .dataframe thead th {\n",
       "        text-align: right;\n",
       "    }\n",
       "</style>\n",
       "<table border=\"1\" class=\"dataframe\">\n",
       "  <thead>\n",
       "    <tr style=\"text-align: right;\">\n",
       "      <th></th>\n",
       "      <th>Median</th>\n",
       "      <th>MAD_SD</th>\n",
       "    </tr>\n",
       "  </thead>\n",
       "  <tbody>\n",
       "    <tr>\n",
       "      <th>Intercept[0]</th>\n",
       "      <td>86.80</td>\n",
       "      <td>0.84</td>\n",
       "    </tr>\n",
       "    <tr>\n",
       "      <th>c2_mom_hs[0]</th>\n",
       "      <td>2.94</td>\n",
       "      <td>1.69</td>\n",
       "    </tr>\n",
       "    <tr>\n",
       "      <th>c2_mom_iq[0]</th>\n",
       "      <td>0.72</td>\n",
       "      <td>0.06</td>\n",
       "    </tr>\n",
       "    <tr>\n",
       "      <th>c2_mom_hs:c2_mom_iq[0]</th>\n",
       "      <td>-0.47</td>\n",
       "      <td>0.11</td>\n",
       "    </tr>\n",
       "    <tr>\n",
       "      <th>kid_score_sd</th>\n",
       "      <td>18.01</td>\n",
       "      <td>0.41</td>\n",
       "    </tr>\n",
       "  </tbody>\n",
       "</table>\n",
       "</div>"
      ],
      "text/plain": [
       "                        Median  MAD_SD\n",
       "Intercept[0]             86.80    0.84\n",
       "c2_mom_hs[0]              2.94    1.69\n",
       "c2_mom_iq[0]              0.72    0.06\n",
       "c2_mom_hs:c2_mom_iq[0]   -0.47    0.11\n",
       "kid_score_sd             18.01    0.41"
      ]
     },
     "execution_count": 30,
     "metadata": {},
     "output_type": "execute_result"
    }
   ],
   "source": [
    "func_dict = {\"Median\": np.median,\n",
    "            \"MAD_SD\":stats.median_abs_deviation,\n",
    "             }\n",
    "coefs = az.summary(fit_4c2, stat_funcs=func_dict, extend=False, round_to=2)\n",
    "coefs"
   ]
  },
  {
   "cell_type": "markdown",
   "metadata": {},
   "source": [
    "### Center and scale predictors to have zero mean and sd=1/2"
   ]
  },
  {
   "cell_type": "code",
   "execution_count": 33,
   "metadata": {},
   "outputs": [],
   "source": [
    "kidiq[\"z_mom_hs\"] = kidiq[\"mom_hs\"] - kidiq[\"mom_hs\"].mean()/(2*kidiq[\"mom_hs\"].std())\n",
    "kidiq[\"z_mom_iq\"] = kidiq[\"mom_iq\"] - kidiq[\"mom_iq\"].mean()/(2*kidiq[\"mom_iq\"].std())"
   ]
  },
  {
   "cell_type": "code",
   "execution_count": 35,
   "metadata": {},
   "outputs": [
    {
     "name": "stderr",
     "output_type": "stream",
     "text": [
      "Auto-assigning NUTS sampler...\n",
      "INFO:pymc3:Auto-assigning NUTS sampler...\n",
      "Initializing NUTS using jitter+adapt_diag...\n",
      "INFO:pymc3:Initializing NUTS using jitter+adapt_diag...\n",
      "Multiprocess sampling (4 chains in 4 jobs)\n",
      "INFO:pymc3:Multiprocess sampling (4 chains in 4 jobs)\n",
      "NUTS: [kid_score_sd, z_mom_hs:z_mom_iq, z_mom_iq, z_mom_hs, Intercept]\n",
      "INFO:pymc3:NUTS: [kid_score_sd, z_mom_hs:z_mom_iq, z_mom_iq, z_mom_hs, Intercept]\n"
     ]
    },
    {
     "data": {
      "text/html": [
       "\n",
       "    <div>\n",
       "        <style>\n",
       "            /* Turns off some styling */\n",
       "            progress {\n",
       "                /* gets rid of default border in Firefox and Opera. */\n",
       "                border: none;\n",
       "                /* Needs to be in here for Safari polyfill so background images work as expected. */\n",
       "                background-size: auto;\n",
       "            }\n",
       "            .progress-bar-interrupted, .progress-bar-interrupted::-webkit-progress-bar {\n",
       "                background: #F44336;\n",
       "            }\n",
       "        </style>\n",
       "      <progress value='8000' class='' max='8000' style='width:300px; height:20px; vertical-align: middle;'></progress>\n",
       "      100.00% [8000/8000 00:12<00:00 Sampling 4 chains, 0 divergences]\n",
       "    </div>\n",
       "    "
      ],
      "text/plain": [
       "<IPython.core.display.HTML object>"
      ]
     },
     "metadata": {},
     "output_type": "display_data"
    },
    {
     "name": "stderr",
     "output_type": "stream",
     "text": [
      "Sampling 4 chains for 1_000 tune and 1_000 draw iterations (4_000 + 4_000 draws total) took 12 seconds.\n",
      "INFO:pymc3:Sampling 4 chains for 1_000 tune and 1_000 draw iterations (4_000 + 4_000 draws total) took 12 seconds.\n",
      "/opt/conda/lib/python3.8/site-packages/arviz/data/io_pymc3.py:85: FutureWarning: Using `from_pymc3` without the model will be deprecated in a future release. Not using the model will return less accurate and less useful results. Make sure you use the model argument or call from_pymc3 within a model context.\n",
      "  warnings.warn(\n"
     ]
    }
   ],
   "source": [
    "model = Model(kidiq)\n",
    "fit_4z = model.fit('kid_score ~ z_mom_hs + z_mom_iq + z_mom_hs:z_mom_iq', samples=1000, chains=4)"
   ]
  },
  {
   "cell_type": "code",
   "execution_count": 36,
   "metadata": {},
   "outputs": [
    {
     "data": {
      "text/html": [
       "<div>\n",
       "<style scoped>\n",
       "    .dataframe tbody tr th:only-of-type {\n",
       "        vertical-align: middle;\n",
       "    }\n",
       "\n",
       "    .dataframe tbody tr th {\n",
       "        vertical-align: top;\n",
       "    }\n",
       "\n",
       "    .dataframe thead th {\n",
       "        text-align: right;\n",
       "    }\n",
       "</style>\n",
       "<table border=\"1\" class=\"dataframe\">\n",
       "  <thead>\n",
       "    <tr style=\"text-align: right;\">\n",
       "      <th></th>\n",
       "      <th>Median</th>\n",
       "      <th>MAD_SD</th>\n",
       "    </tr>\n",
       "  </thead>\n",
       "  <tbody>\n",
       "    <tr>\n",
       "      <th>Intercept[0]</th>\n",
       "      <td>39.69</td>\n",
       "      <td>4.53</td>\n",
       "    </tr>\n",
       "    <tr>\n",
       "      <th>z_mom_hs[0]</th>\n",
       "      <td>49.44</td>\n",
       "      <td>9.68</td>\n",
       "    </tr>\n",
       "    <tr>\n",
       "      <th>z_mom_iq[0]</th>\n",
       "      <td>0.50</td>\n",
       "      <td>0.05</td>\n",
       "    </tr>\n",
       "    <tr>\n",
       "      <th>z_mom_hs:z_mom_iq[0]</th>\n",
       "      <td>-0.48</td>\n",
       "      <td>0.11</td>\n",
       "    </tr>\n",
       "    <tr>\n",
       "      <th>kid_score_sd</th>\n",
       "      <td>18.01</td>\n",
       "      <td>0.44</td>\n",
       "    </tr>\n",
       "  </tbody>\n",
       "</table>\n",
       "</div>"
      ],
      "text/plain": [
       "                      Median  MAD_SD\n",
       "Intercept[0]           39.69    4.53\n",
       "z_mom_hs[0]            49.44    9.68\n",
       "z_mom_iq[0]             0.50    0.05\n",
       "z_mom_hs:z_mom_iq[0]   -0.48    0.11\n",
       "kid_score_sd           18.01    0.44"
      ]
     },
     "execution_count": 36,
     "metadata": {},
     "output_type": "execute_result"
    }
   ],
   "source": [
    "func_dict = {\"Median\": np.median,\n",
    "            \"MAD_SD\":stats.median_abs_deviation,\n",
    "             }\n",
    "coefs = az.summary(fit_4z, stat_funcs=func_dict, extend=False, round_to=2)\n",
    "coefs"
   ]
  }
 ],
 "metadata": {
  "kernelspec": {
   "display_name": "Python 3",
   "language": "python",
   "name": "python3"
  },
  "language_info": {
   "codemirror_mode": {
    "name": "ipython",
    "version": 3
   },
   "file_extension": ".py",
   "mimetype": "text/x-python",
   "name": "python",
   "nbconvert_exporter": "python",
   "pygments_lexer": "ipython3",
   "version": "3.8.3"
  }
 },
 "nbformat": 4,
 "nbformat_minor": 4
}
